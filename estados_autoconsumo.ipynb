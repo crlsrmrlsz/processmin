{
 "cells": [
  {
   "cell_type": "code",
   "execution_count": 2,
   "id": "8a921eba-e129-4f29-af2d-96449c853c40",
   "metadata": {},
   "outputs": [],
   "source": [
    "import pandas as pd"
   ]
  },
  {
   "cell_type": "code",
   "execution_count": 3,
   "id": "132fff0d-592b-44b5-947a-e1b1d9857aca",
   "metadata": {},
   "outputs": [],
   "source": [
    "df_tramites = pd.read_parquet('./data/tramita/full/tramites_completo.parquet')"
   ]
  },
  {
   "cell_type": "code",
   "execution_count": 4,
   "id": "ce04a440-3301-47e4-9a37-6e95ba5c5348",
   "metadata": {},
   "outputs": [
    {
     "name": "stdout",
     "output_type": "stream",
     "text": [
      "<class 'pandas.core.frame.DataFrame'>\n",
      "RangeIndex: 9135452 entries, 0 to 9135451\n",
      "Data columns (total 23 columns):\n",
      " #   Column               Dtype         \n",
      "---  ------               -----         \n",
      " 0   id_exp               uint32        \n",
      " 1   dni                  Int32         \n",
      " 2   nif                  Int32         \n",
      " 3   fecha_alta_exp       datetime64[us]\n",
      " 4   fecha_registro_exp   datetime64[us]\n",
      " 5   codine_provincia     string        \n",
      " 6   codine_municipio     string        \n",
      " 7   codine               string        \n",
      " 8   municipio            string        \n",
      " 9   provincia            string        \n",
      " 10  unidad_tramitadora   string        \n",
      " 11  denom_procedimiento  string        \n",
      " 12  desc_procedimiento   string        \n",
      " 13  siaci                string        \n",
      " 14  consejeria_proc      string        \n",
      " 15  org_instructor_proc  string        \n",
      " 16  es_telematica        object        \n",
      " 17  desc_tramite         string        \n",
      " 18  fecha_tramite        datetime64[us]\n",
      " 19  num_tramite          uint16        \n",
      " 20  cod_procedimiento    float64       \n",
      " 21  orden_tramite        uint16        \n",
      " 22  es_inicial           bool          \n",
      "dtypes: Int32(2), bool(1), datetime64[us](3), float64(1), object(1), string(12), uint16(2), uint32(1)\n",
      "memory usage: 1.3+ GB\n"
     ]
    }
   ],
   "source": [
    "df_tramites.info()"
   ]
  },
  {
   "cell_type": "code",
   "execution_count": null,
   "id": "a5c3a173-aca9-42b5-9362-4bb377a0490e",
   "metadata": {},
   "outputs": [],
   "source": [
    "df_tramites[df_tramites['']]"
   ]
  }
 ],
 "metadata": {
  "kernelspec": {
   "display_name": "Python 3 (ipykernel)",
   "language": "python",
   "name": "python3"
  },
  "language_info": {
   "codemirror_mode": {
    "name": "ipython",
    "version": 3
   },
   "file_extension": ".py",
   "mimetype": "text/x-python",
   "name": "python",
   "nbconvert_exporter": "python",
   "pygments_lexer": "ipython3",
   "version": "3.12.3"
  }
 },
 "nbformat": 4,
 "nbformat_minor": 5
}
