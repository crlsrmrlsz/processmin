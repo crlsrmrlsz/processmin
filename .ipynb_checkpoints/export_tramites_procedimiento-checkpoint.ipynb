{
 "cells": [
  {
   "cell_type": "code",
   "execution_count": 1,
   "id": "f84c949c-c2d2-4bbc-a6f1-32793dfeb392",
   "metadata": {},
   "outputs": [],
   "source": [
    "import pandas as pd"
   ]
  },
  {
   "cell_type": "code",
   "execution_count": 2,
   "id": "e76484c4-9dcd-4b0e-94ab-502a468e3aac",
   "metadata": {},
   "outputs": [],
   "source": [
    "df_tramites = pd.read_parquet('./data/tramita/full/tramites_completo.parquet')"
   ]
  },
  {
   "cell_type": "code",
   "execution_count": 3,
   "id": "84bd5469-3c4f-415d-a022-78c57d19ead7",
   "metadata": {},
   "outputs": [
    {
     "name": "stdout",
     "output_type": "stream",
     "text": [
      "<class 'pandas.core.frame.DataFrame'>\n",
      "RangeIndex: 9135452 entries, 0 to 9135451\n",
      "Data columns (total 23 columns):\n",
      " #   Column               Dtype         \n",
      "---  ------               -----         \n",
      " 0   id_exp               uint32        \n",
      " 1   dni                  Int32         \n",
      " 2   nif                  Int32         \n",
      " 3   fecha_alta_exp       datetime64[us]\n",
      " 4   fecha_registro_exp   datetime64[us]\n",
      " 5   codine_provincia     string        \n",
      " 6   codine_municipio     string        \n",
      " 7   codine               string        \n",
      " 8   municipio            string        \n",
      " 9   provincia            string        \n",
      " 10  unidad_tramitadora   string        \n",
      " 11  denom_procedimiento  string        \n",
      " 12  desc_procedimiento   string        \n",
      " 13  siaci                string        \n",
      " 14  consejeria_proc      string        \n",
      " 15  org_instructor_proc  string        \n",
      " 16  es_telematica        object        \n",
      " 17  desc_tramite         string        \n",
      " 18  fecha_tramite        datetime64[us]\n",
      " 19  num_tramite          uint16        \n",
      " 20  cod_procedimiento    float64       \n",
      " 21  orden_tramite        uint16        \n",
      " 22  es_inicial           bool          \n",
      "dtypes: Int32(2), bool(1), datetime64[us](3), float64(1), object(1), string(12), uint16(2), uint32(1)\n",
      "memory usage: 1.3+ GB\n"
     ]
    }
   ],
   "source": [
    "df_tramites.info()"
   ]
  },
  {
   "attachments": {},
   "cell_type": "markdown",
   "id": "b0623eea-0a5b-4311-9393-40f672c65e96",
   "metadata": {},
   "source": [
    "# Filtro procedimiento\n",
    "\n",
    "Consejeria de desarrollo sostenible\t\n",
    "\n",
    "Direccion general de transicion energetica\t\n",
    "\n",
    "SLOJ - Ayudas Bono Social Térmico\t\n",
    "\n",
    "codigo procedimienbto 876\t\n",
    "númnero expediente 252126\n",
    "\n"
   ]
  },
  {
   "cell_type": "code",
   "execution_count": 4,
   "id": "aa7d4a3f-a6b0-40ce-9903-a9f4a1017bb5",
   "metadata": {},
   "outputs": [],
   "source": [
    "df_tramites_procX = df_tramites[df_tramites['cod_procedimiento']==876]"
   ]
  },
  {
   "cell_type": "code",
   "execution_count": 5,
   "id": "e679494b-c6a9-4ac3-8124-7ce720215251",
   "metadata": {},
   "outputs": [
    {
     "name": "stdout",
     "output_type": "stream",
     "text": [
      "<class 'pandas.core.frame.DataFrame'>\n",
      "Index: 887840 entries, 45531 to 9129508\n",
      "Data columns (total 23 columns):\n",
      " #   Column               Non-Null Count   Dtype         \n",
      "---  ------               --------------   -----         \n",
      " 0   id_exp               887840 non-null  uint32        \n",
      " 1   dni                  887840 non-null  Int32         \n",
      " 2   nif                  0 non-null       Int32         \n",
      " 3   fecha_alta_exp       887840 non-null  datetime64[us]\n",
      " 4   fecha_registro_exp   887840 non-null  datetime64[us]\n",
      " 5   codine_provincia     440 non-null     string        \n",
      " 6   codine_municipio     440 non-null     string        \n",
      " 7   codine               440 non-null     string        \n",
      " 8   municipio            440 non-null     string        \n",
      " 9   provincia            440 non-null     string        \n",
      " 10  unidad_tramitadora   887840 non-null  string        \n",
      " 11  denom_procedimiento  887840 non-null  string        \n",
      " 12  desc_procedimiento   887840 non-null  string        \n",
      " 13  siaci                887840 non-null  string        \n",
      " 14  consejeria_proc      887840 non-null  string        \n",
      " 15  org_instructor_proc  887840 non-null  string        \n",
      " 16  es_telematica        887840 non-null  object        \n",
      " 17  desc_tramite         887840 non-null  string        \n",
      " 18  fecha_tramite        887840 non-null  datetime64[us]\n",
      " 19  num_tramite          887840 non-null  uint16        \n",
      " 20  cod_procedimiento    887840 non-null  float64       \n",
      " 21  orden_tramite        887840 non-null  uint16        \n",
      " 22  es_inicial           887840 non-null  bool          \n",
      "dtypes: Int32(2), bool(1), datetime64[us](3), float64(1), object(1), string(12), uint16(2), uint32(1)\n",
      "memory usage: 138.0+ MB\n"
     ]
    }
   ],
   "source": [
    "df_tramites_procX.info()"
   ]
  },
  {
   "cell_type": "markdown",
   "id": "452821eb-326a-4957-abf5-329f3bad1619",
   "metadata": {},
   "source": [
    "# Export a parquet"
   ]
  },
  {
   "cell_type": "code",
   "execution_count": 6,
   "id": "782ac71e-bc5b-460f-89d4-1e0290db1eda",
   "metadata": {},
   "outputs": [],
   "source": [
    "df_tramites_procX.to_parquet('./data/tramita/tramites_bonosocial.parquet')"
   ]
  }
 ],
 "metadata": {
  "kernelspec": {
   "display_name": "Python 3 (ipykernel)",
   "language": "python",
   "name": "python3"
  },
  "language_info": {
   "codemirror_mode": {
    "name": "ipython",
    "version": 3
   },
   "file_extension": ".py",
   "mimetype": "text/x-python",
   "name": "python",
   "nbconvert_exporter": "python",
   "pygments_lexer": "ipython3",
   "version": "3.13.1"
  }
 },
 "nbformat": 4,
 "nbformat_minor": 5
}
