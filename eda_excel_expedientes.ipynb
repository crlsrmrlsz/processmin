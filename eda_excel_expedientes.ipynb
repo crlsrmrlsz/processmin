{
 "cells": [
  {
   "cell_type": "code",
   "execution_count": 1,
   "id": "3eb6c68e-84d5-47ce-960e-eb09baff6cc0",
   "metadata": {},
   "outputs": [],
   "source": [
    "import pandas as pd"
   ]
  },
  {
   "cell_type": "code",
   "execution_count": 3,
   "id": "9a44547e-5a9f-465b-a654-86d9931a42a6",
   "metadata": {},
   "outputs": [],
   "source": [
    "df_exp = pd.read_parquet('./data/tramita/full/expedientes_completo.parquet')"
   ]
  },
  {
   "cell_type": "code",
   "execution_count": 4,
   "id": "d91a1976-2af6-4ad4-acaf-02aa0c690058",
   "metadata": {},
   "outputs": [
    {
     "data": {
      "text/html": [
       "<div>\n",
       "<style scoped>\n",
       "    .dataframe tbody tr th:only-of-type {\n",
       "        vertical-align: middle;\n",
       "    }\n",
       "\n",
       "    .dataframe tbody tr th {\n",
       "        vertical-align: top;\n",
       "    }\n",
       "\n",
       "    .dataframe thead th {\n",
       "        text-align: right;\n",
       "    }\n",
       "</style>\n",
       "<table border=\"1\" class=\"dataframe\">\n",
       "  <thead>\n",
       "    <tr style=\"text-align: right;\">\n",
       "      <th></th>\n",
       "      <th>id_exp</th>\n",
       "      <th>cod_procedimiento</th>\n",
       "      <th>dni</th>\n",
       "      <th>nif</th>\n",
       "      <th>fecha_alta_exp</th>\n",
       "      <th>fecha_registro_exp</th>\n",
       "      <th>codine_provincia</th>\n",
       "      <th>codine_municipio</th>\n",
       "      <th>codine</th>\n",
       "      <th>municipio</th>\n",
       "      <th>provincia</th>\n",
       "      <th>unidad_tramitadora</th>\n",
       "      <th>denom_procedimiento</th>\n",
       "      <th>desc_procedimiento</th>\n",
       "      <th>siaci</th>\n",
       "      <th>consejeria_proc</th>\n",
       "      <th>org_instructor_proc</th>\n",
       "      <th>es_telematica</th>\n",
       "    </tr>\n",
       "  </thead>\n",
       "  <tbody>\n",
       "    <tr>\n",
       "      <th>0</th>\n",
       "      <td>14891</td>\n",
       "      <td>34</td>\n",
       "      <td>&lt;NA&gt;</td>\n",
       "      <td>392544</td>\n",
       "      <td>2012-08-30 13:26:39</td>\n",
       "      <td>NaT</td>\n",
       "      <td>45</td>\n",
       "      <td>142</td>\n",
       "      <td>45142</td>\n",
       "      <td>Quintanar de la Orden</td>\n",
       "      <td>Toledo</td>\n",
       "      <td>Direccion general formacion profesional en el ...</td>\n",
       "      <td>Orden de 23/07/2012</td>\n",
       "      <td>Subvenciones destinadas a emprendedores para l...</td>\n",
       "      <td>SJSK</td>\n",
       "      <td>Consejeria de economia, empresas y empleo</td>\n",
       "      <td>Direccion general formacion profesional en el ...</td>\n",
       "      <td>None</td>\n",
       "    </tr>\n",
       "    <tr>\n",
       "      <th>1</th>\n",
       "      <td>14906</td>\n",
       "      <td>11</td>\n",
       "      <td>392596</td>\n",
       "      <td>&lt;NA&gt;</td>\n",
       "      <td>2012-08-31 11:03:11</td>\n",
       "      <td>NaT</td>\n",
       "      <td>45</td>\n",
       "      <td>165</td>\n",
       "      <td>45165</td>\n",
       "      <td>Talavera de la Reina</td>\n",
       "      <td>Toledo</td>\n",
       "      <td>Delegacion provincial de toledo</td>\n",
       "      <td>2009-SITX-Expedición de Certificado de Profesi...</td>\n",
       "      <td>&lt;NA&gt;</td>\n",
       "      <td>SITX</td>\n",
       "      <td>Consejeria de economia, empresas y empleo</td>\n",
       "      <td>Direccion general formacion profesional en el ...</td>\n",
       "      <td>None</td>\n",
       "    </tr>\n",
       "    <tr>\n",
       "      <th>2</th>\n",
       "      <td>14915</td>\n",
       "      <td>11</td>\n",
       "      <td>64299</td>\n",
       "      <td>&lt;NA&gt;</td>\n",
       "      <td>2012-08-31 12:47:29</td>\n",
       "      <td>NaT</td>\n",
       "      <td>45</td>\n",
       "      <td>168</td>\n",
       "      <td>45168</td>\n",
       "      <td>Toledo</td>\n",
       "      <td>Toledo</td>\n",
       "      <td>Delegacion provincial de toledo</td>\n",
       "      <td>2009-SITX-Expedición de Certificado de Profesi...</td>\n",
       "      <td>&lt;NA&gt;</td>\n",
       "      <td>SITX</td>\n",
       "      <td>Consejeria de economia, empresas y empleo</td>\n",
       "      <td>Direccion general formacion profesional en el ...</td>\n",
       "      <td>None</td>\n",
       "    </tr>\n",
       "    <tr>\n",
       "      <th>3</th>\n",
       "      <td>14916</td>\n",
       "      <td>11</td>\n",
       "      <td>337824</td>\n",
       "      <td>&lt;NA&gt;</td>\n",
       "      <td>2012-08-31 13:05:37</td>\n",
       "      <td>NaT</td>\n",
       "      <td>02</td>\n",
       "      <td>072</td>\n",
       "      <td>02072</td>\n",
       "      <td>Socovos</td>\n",
       "      <td>Albacete</td>\n",
       "      <td>Delegacion provincial de albacete</td>\n",
       "      <td>2009-SITX-Expedición de Certificado de Profesi...</td>\n",
       "      <td>&lt;NA&gt;</td>\n",
       "      <td>SITX</td>\n",
       "      <td>Consejeria de economia, empresas y empleo</td>\n",
       "      <td>Direccion general formacion profesional en el ...</td>\n",
       "      <td>None</td>\n",
       "    </tr>\n",
       "    <tr>\n",
       "      <th>4</th>\n",
       "      <td>14917</td>\n",
       "      <td>11</td>\n",
       "      <td>392636</td>\n",
       "      <td>&lt;NA&gt;</td>\n",
       "      <td>2012-08-31 13:18:10</td>\n",
       "      <td>NaT</td>\n",
       "      <td>35</td>\n",
       "      <td>022</td>\n",
       "      <td>35022</td>\n",
       "      <td>Santa Lucía de Tirajana</td>\n",
       "      <td>Palmas, Las</td>\n",
       "      <td>Delegacion provincial de toledo</td>\n",
       "      <td>2009-SITX-Expedición de Certificado de Profesi...</td>\n",
       "      <td>&lt;NA&gt;</td>\n",
       "      <td>SITX</td>\n",
       "      <td>Consejeria de economia, empresas y empleo</td>\n",
       "      <td>Direccion general formacion profesional en el ...</td>\n",
       "      <td>None</td>\n",
       "    </tr>\n",
       "  </tbody>\n",
       "</table>\n",
       "</div>"
      ],
      "text/plain": [
       "   id_exp  cod_procedimiento     dni     nif      fecha_alta_exp  \\\n",
       "0   14891                 34    <NA>  392544 2012-08-30 13:26:39   \n",
       "1   14906                 11  392596    <NA> 2012-08-31 11:03:11   \n",
       "2   14915                 11   64299    <NA> 2012-08-31 12:47:29   \n",
       "3   14916                 11  337824    <NA> 2012-08-31 13:05:37   \n",
       "4   14917                 11  392636    <NA> 2012-08-31 13:18:10   \n",
       "\n",
       "  fecha_registro_exp codine_provincia codine_municipio codine  \\\n",
       "0                NaT               45              142  45142   \n",
       "1                NaT               45              165  45165   \n",
       "2                NaT               45              168  45168   \n",
       "3                NaT               02              072  02072   \n",
       "4                NaT               35              022  35022   \n",
       "\n",
       "                 municipio    provincia  \\\n",
       "0    Quintanar de la Orden       Toledo   \n",
       "1     Talavera de la Reina       Toledo   \n",
       "2                   Toledo       Toledo   \n",
       "3                  Socovos     Albacete   \n",
       "4  Santa Lucía de Tirajana  Palmas, Las   \n",
       "\n",
       "                                  unidad_tramitadora  \\\n",
       "0  Direccion general formacion profesional en el ...   \n",
       "1                    Delegacion provincial de toledo   \n",
       "2                    Delegacion provincial de toledo   \n",
       "3                  Delegacion provincial de albacete   \n",
       "4                    Delegacion provincial de toledo   \n",
       "\n",
       "                                 denom_procedimiento  \\\n",
       "0                                Orden de 23/07/2012   \n",
       "1  2009-SITX-Expedición de Certificado de Profesi...   \n",
       "2  2009-SITX-Expedición de Certificado de Profesi...   \n",
       "3  2009-SITX-Expedición de Certificado de Profesi...   \n",
       "4  2009-SITX-Expedición de Certificado de Profesi...   \n",
       "\n",
       "                                  desc_procedimiento siaci  \\\n",
       "0  Subvenciones destinadas a emprendedores para l...  SJSK   \n",
       "1                                               <NA>  SITX   \n",
       "2                                               <NA>  SITX   \n",
       "3                                               <NA>  SITX   \n",
       "4                                               <NA>  SITX   \n",
       "\n",
       "                             consejeria_proc  \\\n",
       "0  Consejeria de economia, empresas y empleo   \n",
       "1  Consejeria de economia, empresas y empleo   \n",
       "2  Consejeria de economia, empresas y empleo   \n",
       "3  Consejeria de economia, empresas y empleo   \n",
       "4  Consejeria de economia, empresas y empleo   \n",
       "\n",
       "                                 org_instructor_proc es_telematica  \n",
       "0  Direccion general formacion profesional en el ...          None  \n",
       "1  Direccion general formacion profesional en el ...          None  \n",
       "2  Direccion general formacion profesional en el ...          None  \n",
       "3  Direccion general formacion profesional en el ...          None  \n",
       "4  Direccion general formacion profesional en el ...          None  "
      ]
     },
     "execution_count": 4,
     "metadata": {},
     "output_type": "execute_result"
    }
   ],
   "source": [
    "df_exp.head()"
   ]
  },
  {
   "cell_type": "code",
   "execution_count": 6,
   "id": "b6738352-c433-4a7f-b250-4ffd67bac34c",
   "metadata": {},
   "outputs": [
    {
     "name": "stdout",
     "output_type": "stream",
     "text": [
      "<class 'pandas.core.frame.DataFrame'>\n",
      "RangeIndex: 1910628 entries, 0 to 1910627\n",
      "Data columns (total 18 columns):\n",
      " #   Column               Dtype         \n",
      "---  ------               -----         \n",
      " 0   id_exp               uint32        \n",
      " 1   cod_procedimiento    uint32        \n",
      " 2   dni                  Int32         \n",
      " 3   nif                  Int32         \n",
      " 4   fecha_alta_exp       datetime64[us]\n",
      " 5   fecha_registro_exp   datetime64[us]\n",
      " 6   codine_provincia     string        \n",
      " 7   codine_municipio     string        \n",
      " 8   codine               string        \n",
      " 9   municipio            string        \n",
      " 10  provincia            string        \n",
      " 11  unidad_tramitadora   string        \n",
      " 12  denom_procedimiento  string        \n",
      " 13  desc_procedimiento   string        \n",
      " 14  siaci                string        \n",
      " 15  consejeria_proc      string        \n",
      " 16  org_instructor_proc  string        \n",
      " 17  es_telematica        object        \n",
      "dtypes: Int32(2), datetime64[us](2), object(1), string(11), uint32(2)\n",
      "memory usage: 236.9+ MB\n"
     ]
    }
   ],
   "source": [
    "df_exp.info()"
   ]
  },
  {
   "cell_type": "markdown",
   "id": "fd86e46f-c705-4c93-be85-4a79eb4347ce",
   "metadata": {},
   "source": [
    "# Numero expedientes por consejería"
   ]
  },
  {
   "cell_type": "code",
   "execution_count": 8,
   "id": "07ef9c27-3f2e-42c9-acce-b29a3a7c662a",
   "metadata": {},
   "outputs": [
    {
     "data": {
      "text/plain": [
       "consejeria_proc\n",
       "Consejeria de agricultura, ganaderia y desarrollo rural                         1481\n",
       "Consejeria de bienestar social                                                121691\n",
       "Consejeria de desarrollo sostenible                                           646709\n",
       "Consejeria de economia, empresas y empleo                                     694768\n",
       "Consejeria de educacion, cultura y deportes                                   272563\n",
       "Consejeria de fomento                                                         163173\n",
       "Consejeria de hacienda, administraciones publicas y transformacion digital      4750\n",
       "Consejeria de sanidad                                                           4832\n",
       "Name: id_exp, dtype: int64"
      ]
     },
     "execution_count": 8,
     "metadata": {},
     "output_type": "execute_result"
    }
   ],
   "source": [
    "df_exp.groupby('consejeria_proc')['id_exp'].nunique()"
   ]
  },
  {
   "cell_type": "markdown",
   "id": "9875d178-05a9-4081-bf30-30d68cd276c5",
   "metadata": {},
   "source": [
    "# Número expedientes por Consejería y Órgano"
   ]
  },
  {
   "cell_type": "code",
   "execution_count": 25,
   "id": "bf317dc0-c208-4aaa-92c0-ebccb92f67c9",
   "metadata": {},
   "outputs": [
    {
     "data": {
      "text/plain": [
       "consejeria_proc                                          org_instructor_proc                                                 \n",
       "Consejeria de agricultura, ganaderia y desarrollo rural  Direccion general agricultura y ganaderia                                 1161\n",
       "                                                         Direccion general produccion agroalimentaria y cooperativas                320\n",
       "Consejeria de bienestar social                           Direccion general de accion social y cooperacion                            22\n",
       "                                                         Direccion general de discapacidad                                        89875\n",
       "                                                         Direccion general de mayores                                             31196\n",
       "                                                         Secretaria general de la consejeria de bienestar social                    598\n",
       "Consejeria de desarrollo sostenible                      Direccion general de calidad ambiental                                    5075\n",
       "                                                         Direccion general de economia circular y agenda 2030                     21970\n",
       "                                                         Direccion general de transicion energetica                              501910\n",
       "                                                         Direccion general medio natural y biodiversidad                         111603\n",
       "                                                         Secretaria general de desarrollo sostenible                                  3\n",
       "                                                         Viceconsejeria de medio ambiente                                          6148\n",
       "Consejeria de economia, empresas y empleo                Consejeria de economia, empresas y empleo                                    3\n",
       "                                                         Direccion general de autonomos, trabajo y economia social               104588\n",
       "                                                         Direccion general de empleo                                             103111\n",
       "                                                         Direccion general de empresas                                            42043\n",
       "                                                         Direccion general de turismo, comercio y artesania                       22530\n",
       "                                                         Direccion general formacion profesional en el ambito laboral            253166\n",
       "                                                         Secretaria general de economia, empresas y empleo                           28\n",
       "                                                         Viceconsejeria de empleo, dialogo social y seguridad y salud laboral    169299\n",
       "Name: id_exp, dtype: int64"
      ]
     },
     "execution_count": 25,
     "metadata": {},
     "output_type": "execute_result"
    }
   ],
   "source": [
    "df_grp_co = df_exp.groupby(['consejeria_proc','org_instructor_proc'])['id_exp'].nunique()\n",
    "df_grp_co.head(20)"
   ]
  },
  {
   "cell_type": "markdown",
   "id": "77e0e912-d938-4ee4-9616-c3574fd965a4",
   "metadata": {},
   "source": [
    "# Número expedientes por Consejería / Órgano / Procedimientos"
   ]
  },
  {
   "cell_type": "code",
   "execution_count": 27,
   "id": "1f40b182-312c-40b8-9805-fde5f5544ef7",
   "metadata": {},
   "outputs": [],
   "source": [
    "pd.set_option('display.max_colwidth', 10)"
   ]
  },
  {
   "cell_type": "code",
   "execution_count": 40,
   "id": "8c09cf7c-2c1e-4fdf-be2a-3cd04dc9eaf8",
   "metadata": {},
   "outputs": [
    {
     "name": "stdout",
     "output_type": "stream",
     "text": [
      "<class 'pandas.core.series.Series'>\n",
      "MultiIndex: 1018 entries, ('Consejeria de agricultura, ganaderia y desarrollo rural', 'Direccion general agricultura y ganaderia', 'MLLU - Gestión de restos cinegéticos', np.uint32(878)) to ('Consejeria de sanidad', 'Direccion general salud publica', '2023-SM04-Autorización de traslado de reses otras CCAA.', np.uint32(1047))\n",
      "Series name: id_exp\n",
      "Non-Null Count  Dtype\n",
      "--------------  -----\n",
      "1018 non-null   int64\n",
      "dtypes: int64(1)\n",
      "memory usage: 26.3+ KB\n"
     ]
    }
   ],
   "source": [
    "df_grp_cop = df_exp.groupby(['consejeria_proc','org_instructor_proc','denom_procedimiento','cod_procedimiento'])['id_exp'].nunique()\n",
    "df_grp_cop.info()"
   ]
  },
  {
   "cell_type": "code",
   "execution_count": 42,
   "id": "fb304001-97e6-415f-8276-714b93aa61db",
   "metadata": {},
   "outputs": [],
   "source": [
    "#para exportarlo a excel serie-> dataframe\n",
    "df = df_grp_cop.to_frame()\n",
    "df.reset_index(inplace=True)\n",
    "df.to_excel('./data/tramita/full/exp_con_org_proc.xlsx', index=False)"
   ]
  },
  {
   "cell_type": "code",
   "execution_count": 38,
   "id": "07c70b4a-3430-44ba-8718-575507e4d659",
   "metadata": {},
   "outputs": [
    {
     "name": "stdout",
     "output_type": "stream",
     "text": [
      "<class 'pandas.core.frame.DataFrame'>\n",
      "RangeIndex: 986 entries, 0 to 985\n",
      "Data columns (total 4 columns):\n",
      " #   Column               Non-Null Count  Dtype \n",
      "---  ------               --------------  ----- \n",
      " 0   consejeria_proc      986 non-null    string\n",
      " 1   org_instructor_proc  986 non-null    string\n",
      " 2   denom_procedimiento  986 non-null    string\n",
      " 3   id_exp               986 non-null    int64 \n",
      "dtypes: int64(1), string(3)\n",
      "memory usage: 30.9 KB\n"
     ]
    }
   ],
   "source": [
    "df.info()"
   ]
  },
  {
   "cell_type": "code",
   "execution_count": null,
   "id": "f040b7bf-ba07-4fc3-8840-1a056a5ce7e1",
   "metadata": {},
   "outputs": [],
   "source": []
  }
 ],
 "metadata": {
  "kernelspec": {
   "display_name": "Python 3 (ipykernel)",
   "language": "python",
   "name": "python3"
  },
  "language_info": {
   "codemirror_mode": {
    "name": "ipython",
    "version": 3
   },
   "file_extension": ".py",
   "mimetype": "text/x-python",
   "name": "python",
   "nbconvert_exporter": "python",
   "pygments_lexer": "ipython3",
   "version": "3.13.1"
  }
 },
 "nbformat": 4,
 "nbformat_minor": 5
}
