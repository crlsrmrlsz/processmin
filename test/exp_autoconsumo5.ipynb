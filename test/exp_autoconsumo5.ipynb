{
 "cells": [
  {
   "cell_type": "code",
   "execution_count": 1,
   "id": "2ef23e74-99af-4c31-8598-be220649cc5e",
   "metadata": {},
   "outputs": [],
   "source": [
    "import pandas as pd\n",
    "import matplotlib.pyplot as plt"
   ]
  },
  {
   "cell_type": "code",
   "execution_count": 2,
   "id": "bc48b4d8-6a88-4792-ac23-ae2389ad59df",
   "metadata": {},
   "outputs": [],
   "source": [
    "df_autoconsumo = pd.read_parquet('expedientes_completo.parquet')"
   ]
  },
  {
   "cell_type": "code",
   "execution_count": 3,
   "id": "35788555-72ca-4315-8ad2-65536ef9f4dc",
   "metadata": {},
   "outputs": [
    {
     "name": "stdout",
     "output_type": "stream",
     "text": [
      "<class 'pandas.core.frame.DataFrame'>\n",
      "RangeIndex: 1910628 entries, 0 to 1910627\n",
      "Data columns (total 18 columns):\n",
      " #   Column               Dtype         \n",
      "---  ------               -----         \n",
      " 0   id_exp               uint32        \n",
      " 1   cod_procedimiento    uint32        \n",
      " 2   dni                  Int32         \n",
      " 3   nif                  Int32         \n",
      " 4   fecha_alta_exp       datetime64[us]\n",
      " 5   fecha_registro_exp   datetime64[us]\n",
      " 6   codine_provincia     string        \n",
      " 7   codine_municipio     string        \n",
      " 8   codine               string        \n",
      " 9   municipio            string        \n",
      " 10  provincia            string        \n",
      " 11  unidad_tramitadora   string        \n",
      " 12  denom_procedimiento  string        \n",
      " 13  desc_procedimiento   string        \n",
      " 14  siaci                string        \n",
      " 15  consejeria_proc      string        \n",
      " 16  org_instructor_proc  string        \n",
      " 17  es_telematica        object        \n",
      "dtypes: Int32(2), datetime64[us](2), object(1), string(11), uint32(2)\n",
      "memory usage: 236.9+ MB\n"
     ]
    }
   ],
   "source": [
    "df_autoconsumo.info()"
   ]
  },
  {
   "cell_type": "markdown",
   "id": "8ba75951-7818-4b11-b580-0c806986d1e1",
   "metadata": {},
   "source": [
    "consejeria_proc      'Consejeria de desarrollo sostenible'\n",
    "org_instructor_proc  'Direccion general de transicion energetica'\n",
    "denom_procedimiento  'SLPT - Ayudas para actuaciones de autoconsumo en el sector residencial, las administraciones públicas y el tercer sector'\n",
    "desc_procedimiento   'Convocatoria de los programas de incentivos 4 y 5 para actuaciones de autoconsumo, con fuentes de energias renovables, en el sector residencial, las administraciones publicas y el tercer sector.'\n",
    "siaci                'SLPT'"
   ]
  },
  {
   "cell_type": "code",
   "execution_count": 5,
   "id": "91ea7209-ee37-408c-88dd-abdd4c595660",
   "metadata": {},
   "outputs": [],
   "source": [
    "columns_to_drop = ['org_instructor_proc',\n",
    "                   'consejeria_proc',\n",
    "                   'denom_procedimiento',\n",
    "                   'desc_procedimiento',\n",
    "                   'unidad_tramitadora',\n",
    "                   'siaci',\n",
    "                    'cod_procedimiento']\n",
    "df_autoconsumo_simple = df_autoconsumo.drop(columns = columns_to_drop)"
   ]
  },
  {
   "cell_type": "code",
   "execution_count": 7,
   "id": "0ea54fda-cc95-4ee5-8f3b-220c6d2a4f7c",
   "metadata": {},
   "outputs": [
    {
     "name": "stdout",
     "output_type": "stream",
     "text": [
      "<class 'pandas.core.frame.DataFrame'>\n",
      "RangeIndex: 1910628 entries, 0 to 1910627\n",
      "Data columns (total 11 columns):\n",
      " #   Column              Dtype         \n",
      "---  ------              -----         \n",
      " 0   id_exp              uint32        \n",
      " 1   dni                 Int32         \n",
      " 2   nif                 Int32         \n",
      " 3   fecha_alta_exp      datetime64[us]\n",
      " 4   fecha_registro_exp  datetime64[us]\n",
      " 5   codine_provincia    string        \n",
      " 6   codine_municipio    string        \n",
      " 7   codine              string        \n",
      " 8   municipio           string        \n",
      " 9   provincia           string        \n",
      " 10  es_telematica       object        \n",
      "dtypes: Int32(2), datetime64[us](2), object(1), string(5), uint32(1)\n",
      "memory usage: 142.1+ MB\n"
     ]
    }
   ],
   "source": [
    "df_autoconsumo_simple.info()"
   ]
  },
  {
   "cell_type": "code",
   "execution_count": 8,
   "id": "6ada7073-319d-4e66-8bec-49cd7f12a717",
   "metadata": {},
   "outputs": [
    {
     "data": {
      "text/html": [
       "<div>\n",
       "<style scoped>\n",
       "    .dataframe tbody tr th:only-of-type {\n",
       "        vertical-align: middle;\n",
       "    }\n",
       "\n",
       "    .dataframe tbody tr th {\n",
       "        vertical-align: top;\n",
       "    }\n",
       "\n",
       "    .dataframe thead th {\n",
       "        text-align: right;\n",
       "    }\n",
       "</style>\n",
       "<table border=\"1\" class=\"dataframe\">\n",
       "  <thead>\n",
       "    <tr style=\"text-align: right;\">\n",
       "      <th></th>\n",
       "      <th>id_exp</th>\n",
       "      <th>dni</th>\n",
       "      <th>nif</th>\n",
       "      <th>fecha_alta_exp</th>\n",
       "      <th>fecha_registro_exp</th>\n",
       "      <th>codine_provincia</th>\n",
       "      <th>codine_municipio</th>\n",
       "      <th>codine</th>\n",
       "      <th>municipio</th>\n",
       "      <th>provincia</th>\n",
       "      <th>es_telematica</th>\n",
       "    </tr>\n",
       "  </thead>\n",
       "  <tbody>\n",
       "    <tr>\n",
       "      <th>0</th>\n",
       "      <td>14891</td>\n",
       "      <td>&lt;NA&gt;</td>\n",
       "      <td>392544</td>\n",
       "      <td>2012-08-30 13:26:39</td>\n",
       "      <td>NaT</td>\n",
       "      <td>45</td>\n",
       "      <td>142</td>\n",
       "      <td>45142</td>\n",
       "      <td>Quintanar de la Orden</td>\n",
       "      <td>Toledo</td>\n",
       "      <td>None</td>\n",
       "    </tr>\n",
       "    <tr>\n",
       "      <th>1</th>\n",
       "      <td>14906</td>\n",
       "      <td>392596</td>\n",
       "      <td>&lt;NA&gt;</td>\n",
       "      <td>2012-08-31 11:03:11</td>\n",
       "      <td>NaT</td>\n",
       "      <td>45</td>\n",
       "      <td>165</td>\n",
       "      <td>45165</td>\n",
       "      <td>Talavera de la Reina</td>\n",
       "      <td>Toledo</td>\n",
       "      <td>None</td>\n",
       "    </tr>\n",
       "    <tr>\n",
       "      <th>2</th>\n",
       "      <td>14915</td>\n",
       "      <td>64299</td>\n",
       "      <td>&lt;NA&gt;</td>\n",
       "      <td>2012-08-31 12:47:29</td>\n",
       "      <td>NaT</td>\n",
       "      <td>45</td>\n",
       "      <td>168</td>\n",
       "      <td>45168</td>\n",
       "      <td>Toledo</td>\n",
       "      <td>Toledo</td>\n",
       "      <td>None</td>\n",
       "    </tr>\n",
       "    <tr>\n",
       "      <th>3</th>\n",
       "      <td>14916</td>\n",
       "      <td>337824</td>\n",
       "      <td>&lt;NA&gt;</td>\n",
       "      <td>2012-08-31 13:05:37</td>\n",
       "      <td>NaT</td>\n",
       "      <td>02</td>\n",
       "      <td>072</td>\n",
       "      <td>02072</td>\n",
       "      <td>Socovos</td>\n",
       "      <td>Albacete</td>\n",
       "      <td>None</td>\n",
       "    </tr>\n",
       "    <tr>\n",
       "      <th>4</th>\n",
       "      <td>14917</td>\n",
       "      <td>392636</td>\n",
       "      <td>&lt;NA&gt;</td>\n",
       "      <td>2012-08-31 13:18:10</td>\n",
       "      <td>NaT</td>\n",
       "      <td>35</td>\n",
       "      <td>022</td>\n",
       "      <td>35022</td>\n",
       "      <td>Santa Lucía de Tirajana</td>\n",
       "      <td>Palmas, Las</td>\n",
       "      <td>None</td>\n",
       "    </tr>\n",
       "  </tbody>\n",
       "</table>\n",
       "</div>"
      ],
      "text/plain": [
       "   id_exp     dni     nif      fecha_alta_exp fecha_registro_exp  \\\n",
       "0   14891    <NA>  392544 2012-08-30 13:26:39                NaT   \n",
       "1   14906  392596    <NA> 2012-08-31 11:03:11                NaT   \n",
       "2   14915   64299    <NA> 2012-08-31 12:47:29                NaT   \n",
       "3   14916  337824    <NA> 2012-08-31 13:05:37                NaT   \n",
       "4   14917  392636    <NA> 2012-08-31 13:18:10                NaT   \n",
       "\n",
       "  codine_provincia codine_municipio codine                municipio  \\\n",
       "0               45              142  45142    Quintanar de la Orden   \n",
       "1               45              165  45165     Talavera de la Reina   \n",
       "2               45              168  45168                   Toledo   \n",
       "3               02              072  02072                  Socovos   \n",
       "4               35              022  35022  Santa Lucía de Tirajana   \n",
       "\n",
       "     provincia es_telematica  \n",
       "0       Toledo          None  \n",
       "1       Toledo          None  \n",
       "2       Toledo          None  \n",
       "3     Albacete          None  \n",
       "4  Palmas, Las          None  "
      ]
     },
     "execution_count": 8,
     "metadata": {},
     "output_type": "execute_result"
    }
   ],
   "source": [
    "df_autoconsumo_simple.head()"
   ]
  }
 ],
 "metadata": {
  "kernelspec": {
   "display_name": "Python 3 (ipykernel)",
   "language": "python",
   "name": "python3"
  },
  "language_info": {
   "codemirror_mode": {
    "name": "ipython",
    "version": 3
   },
   "file_extension": ".py",
   "mimetype": "text/x-python",
   "name": "python",
   "nbconvert_exporter": "python",
   "pygments_lexer": "ipython3",
   "version": "3.12.3"
  }
 },
 "nbformat": 4,
 "nbformat_minor": 5
}
