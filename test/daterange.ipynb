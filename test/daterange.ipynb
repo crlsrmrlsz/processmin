{
 "cells": [
  {
   "cell_type": "code",
   "execution_count": 1,
   "id": "f7efa305-36f5-408e-a770-f2960a9eabd6",
   "metadata": {},
   "outputs": [],
   "source": [
    "import pandas as pd"
   ]
  },
  {
   "cell_type": "code",
   "execution_count": 5,
   "id": "edddcf07-f0c1-412e-9bb8-8c119d2e9c0a",
   "metadata": {},
   "outputs": [
    {
     "data": {
      "text/plain": [
       "DatetimeIndex(['2021-12-22', '2021-12-23', '2021-12-24', '2021-12-25',\n",
       "               '2021-12-26', '2021-12-27', '2021-12-28'],\n",
       "              dtype='datetime64[ns]', freq='D')"
      ]
     },
     "execution_count": 5,
     "metadata": {},
     "output_type": "execute_result"
    }
   ],
   "source": [
    "rango1 = pd.date_range(start='2021-12-22 00:00:00', end= '2021-12-28 12:38:10')\n",
    "rango1"
   ]
  },
  {
   "cell_type": "code",
   "execution_count": 6,
   "id": "ac406059-8d2f-45e6-9b16-6784e31f5e06",
   "metadata": {},
   "outputs": [
    {
     "data": {
      "text/plain": [
       "DatetimeIndex(['2021-12-28 12:38:10', '2021-12-29 12:38:10',\n",
       "               '2021-12-30 12:38:10', '2021-12-31 12:38:10',\n",
       "               '2022-01-01 12:38:10', '2022-01-02 12:38:10',\n",
       "               '2022-01-03 12:38:10', '2022-01-04 12:38:10',\n",
       "               '2022-01-05 12:38:10', '2022-01-06 12:38:10',\n",
       "               '2022-01-07 12:38:10', '2022-01-08 12:38:10',\n",
       "               '2022-01-09 12:38:10', '2022-01-10 12:38:10',\n",
       "               '2022-01-11 12:38:10', '2022-01-12 12:38:10',\n",
       "               '2022-01-13 12:38:10', '2022-01-14 12:38:10',\n",
       "               '2022-01-15 12:38:10', '2022-01-16 12:38:10',\n",
       "               '2022-01-17 12:38:10', '2022-01-18 12:38:10',\n",
       "               '2022-01-19 12:38:10', '2022-01-20 12:38:10',\n",
       "               '2022-01-21 12:38:10', '2022-01-22 12:38:10',\n",
       "               '2022-01-23 12:38:10', '2022-01-24 12:38:10',\n",
       "               '2022-01-25 12:38:10', '2022-01-26 12:38:10',\n",
       "               '2022-01-27 12:38:10', '2022-01-28 12:38:10',\n",
       "               '2022-01-29 12:38:10', '2022-01-30 12:38:10',\n",
       "               '2022-01-31 12:38:10', '2022-02-01 12:38:10'],\n",
       "              dtype='datetime64[ns]', freq='D')"
      ]
     },
     "execution_count": 6,
     "metadata": {},
     "output_type": "execute_result"
    }
   ],
   "source": [
    "rango2 = pd.date_range(start='2021-12-28 12:38:10', end= '2022-02-02 11:38:10')\n",
    "rango2"
   ]
  },
  {
   "cell_type": "code",
   "execution_count": null,
   "id": "1748d9ae-c940-4a58-bea1-d8edca6b5fc9",
   "metadata": {},
   "outputs": [],
   "source": []
  }
 ],
 "metadata": {
  "kernelspec": {
   "display_name": "Python 3 (ipykernel)",
   "language": "python",
   "name": "python3"
  },
  "language_info": {
   "codemirror_mode": {
    "name": "ipython",
    "version": 3
   },
   "file_extension": ".py",
   "mimetype": "text/x-python",
   "name": "python",
   "nbconvert_exporter": "python",
   "pygments_lexer": "ipython3",
   "version": "3.12.3"
  }
 },
 "nbformat": 4,
 "nbformat_minor": 5
}
